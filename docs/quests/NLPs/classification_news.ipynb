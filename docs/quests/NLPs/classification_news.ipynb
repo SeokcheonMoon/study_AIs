{
  "nbformat": 4,
  "nbformat_minor": 0,
  "metadata": {
    "colab": {
      "provenance": [],
      "authorship_tag": "ABX9TyORq1sBQ9yTPKfl3NuS8+Ea",
      "include_colab_link": true
    },
    "kernelspec": {
      "name": "python3",
      "display_name": "Python 3"
    },
    "language_info": {
      "name": "python"
    }
  },
  "cells": [
    {
      "cell_type": "markdown",
      "metadata": {
        "id": "view-in-github",
        "colab_type": "text"
      },
      "source": [
        "<a href=\"https://colab.research.google.com/github/SeokcheonMoon/study_AIs/blob/main/docs/quests/NLPs/classification_news.ipynb\" target=\"_parent\"><img src=\"https://colab.research.google.com/assets/colab-badge.svg\" alt=\"Open In Colab\"/></a>"
      ]
    },
    {
      "cell_type": "code",
      "source": [
        "# !apt-get -y install fonts-nanum\n",
        "# !fc-cache -fv\n",
        "# !rm ~/.cache/matplotlib -rf"
      ],
      "metadata": {
        "id": "p4I1d5a8MKZy"
      },
      "execution_count": null,
      "outputs": []
    },
    {
      "cell_type": "code",
      "execution_count": null,
      "metadata": {
        "colab": {
          "base_uri": "https://localhost:8080/"
        },
        "id": "P_mMqa3vLJCS",
        "outputId": "758c0b32-2fb4-43ef-8a3e-c7238d174368"
      },
      "outputs": [
        {
          "output_type": "stream",
          "name": "stdout",
          "text": [
            "Collecting konlpy\n",
            "  Downloading konlpy-0.6.0-py2.py3-none-any.whl (19.4 MB)\n",
            "\u001b[2K     \u001b[90m━━━━━━━━━━━━━━━━━━━━━━━━━━━━━━━━━━━━━━━━\u001b[0m \u001b[32m19.4/19.4 MB\u001b[0m \u001b[31m19.3 MB/s\u001b[0m eta \u001b[36m0:00:00\u001b[0m\n",
            "\u001b[?25hCollecting JPype1>=0.7.0 (from konlpy)\n",
            "  Downloading JPype1-1.5.0-cp310-cp310-manylinux_2_17_x86_64.manylinux2014_x86_64.whl (488 kB)\n",
            "\u001b[2K     \u001b[90m━━━━━━━━━━━━━━━━━━━━━━━━━━━━━━━━━━━━━━━━\u001b[0m \u001b[32m488.6/488.6 kB\u001b[0m \u001b[31m22.4 MB/s\u001b[0m eta \u001b[36m0:00:00\u001b[0m\n",
            "\u001b[?25hRequirement already satisfied: lxml>=4.1.0 in /usr/local/lib/python3.10/dist-packages (from konlpy) (4.9.4)\n",
            "Requirement already satisfied: numpy>=1.6 in /usr/local/lib/python3.10/dist-packages (from konlpy) (1.25.2)\n",
            "Requirement already satisfied: packaging in /usr/local/lib/python3.10/dist-packages (from JPype1>=0.7.0->konlpy) (23.2)\n",
            "Installing collected packages: JPype1, konlpy\n",
            "Successfully installed JPype1-1.5.0 konlpy-0.6.0\n"
          ]
        }
      ],
      "source": [
        "!pip install konlpy"
      ]
    },
    {
      "cell_type": "code",
      "source": [
        "import pandas as pd\n",
        "from konlpy.tag import Okt\n",
        "from sklearn.ensemble import RandomForestClassifier\n",
        "import numpy as np"
      ],
      "metadata": {
        "id": "-6DmEKupLYIh"
      },
      "execution_count": null,
      "outputs": []
    },
    {
      "cell_type": "code",
      "source": [
        "df_excel = pd.read_excel(\"IT News.xlsx\", sheet_name=None)         # 엑셀 파일 읽기\n",
        "type(df_excel)"
      ],
      "metadata": {
        "colab": {
          "base_uri": "https://localhost:8080/"
        },
        "id": "tuuO90MdLYF4",
        "outputId": "2fc9ea8f-848c-462e-db75-e83a713d47cf"
      },
      "execution_count": null,
      "outputs": [
        {
          "output_type": "execute_result",
          "data": {
            "text/plain": [
              "dict"
            ]
          },
          "metadata": {},
          "execution_count": 7
        }
      ]
    },
    {
      "cell_type": "code",
      "source": [
        "df_sheets = []\n",
        "for sheet_name, df in df_excel.items():\n",
        "  df_sheets.append(df)\n",
        "  pass\n",
        "  print(f\"{sheet_name},{type(df)}\")         # df_sheet에 엑셀파일 시트 마다 다 추가"
      ],
      "metadata": {
        "colab": {
          "base_uri": "https://localhost:8080/"
        },
        "id": "6b4Foc_ALYDh",
        "outputId": "67cb8028-db56-4964-9547-731548b722ca"
      },
      "execution_count": null,
      "outputs": [
        {
          "output_type": "stream",
          "name": "stdout",
          "text": [
            "2024-01-31,<class 'pandas.core.frame.DataFrame'>\n",
            "2024-01-30,<class 'pandas.core.frame.DataFrame'>\n",
            "2024-01-29,<class 'pandas.core.frame.DataFrame'>\n",
            "2024-01-26,<class 'pandas.core.frame.DataFrame'>\n",
            "2024-01-25,<class 'pandas.core.frame.DataFrame'>\n",
            "2024-01-24,<class 'pandas.core.frame.DataFrame'>\n",
            "2024-01-23,<class 'pandas.core.frame.DataFrame'>\n",
            "2024-01-22,<class 'pandas.core.frame.DataFrame'>\n",
            "2024-1-19,<class 'pandas.core.frame.DataFrame'>\n",
            "2024-1-18,<class 'pandas.core.frame.DataFrame'>\n",
            "2024-1-17,<class 'pandas.core.frame.DataFrame'>\n",
            "2024-1-16,<class 'pandas.core.frame.DataFrame'>\n",
            "2024-1-15,<class 'pandas.core.frame.DataFrame'>\n",
            "2024-1-12,<class 'pandas.core.frame.DataFrame'>\n",
            "2024-1-11,<class 'pandas.core.frame.DataFrame'>\n",
            "2024-1-10,<class 'pandas.core.frame.DataFrame'>\n",
            "2024-1-9,<class 'pandas.core.frame.DataFrame'>\n",
            "2024-1-8,<class 'pandas.core.frame.DataFrame'>\n",
            "2024-1-5,<class 'pandas.core.frame.DataFrame'>\n",
            "2024-1-4,<class 'pandas.core.frame.DataFrame'>\n",
            "2024-01-03,<class 'pandas.core.frame.DataFrame'>\n",
            "2024-1-2,<class 'pandas.core.frame.DataFrame'>\n",
            "2024-02-19,<class 'pandas.core.frame.DataFrame'>\n",
            "2024-02-16,<class 'pandas.core.frame.DataFrame'>\n",
            "2024-02-15,<class 'pandas.core.frame.DataFrame'>\n",
            "2024-02-14,<class 'pandas.core.frame.DataFrame'>\n",
            "2024-02-13,<class 'pandas.core.frame.DataFrame'>\n",
            "2024-02-07,<class 'pandas.core.frame.DataFrame'>\n",
            "2024-02-06,<class 'pandas.core.frame.DataFrame'>\n",
            "2024-02-05,<class 'pandas.core.frame.DataFrame'>\n",
            "2024-02-02,<class 'pandas.core.frame.DataFrame'>\n",
            "2024-02-01,<class 'pandas.core.frame.DataFrame'>\n",
            "2023-12-29,<class 'pandas.core.frame.DataFrame'>\n",
            "2023-12-28,<class 'pandas.core.frame.DataFrame'>\n",
            "2023-12-27,<class 'pandas.core.frame.DataFrame'>\n",
            "2023-12-26,<class 'pandas.core.frame.DataFrame'>\n",
            "2023-12-22,<class 'pandas.core.frame.DataFrame'>\n",
            "2023-12-21,<class 'pandas.core.frame.DataFrame'>\n",
            "2023-12-20,<class 'pandas.core.frame.DataFrame'>\n",
            "2023-12-19,<class 'pandas.core.frame.DataFrame'>\n",
            "2023-12-18,<class 'pandas.core.frame.DataFrame'>\n",
            "2023-12-15,<class 'pandas.core.frame.DataFrame'>\n",
            "Template,<class 'pandas.core.frame.DataFrame'>\n",
            "2023-12-14,<class 'pandas.core.frame.DataFrame'>\n",
            "2023-12-13,<class 'pandas.core.frame.DataFrame'>\n"
          ]
        }
      ]
    },
    {
      "cell_type": "code",
      "source": [
        "df_sheets[0].iloc[0][3]         # 예시로 첫번째 시트에 맨 첫줄에 해당하는 데이터중 문장요약에 해당하는 네번째 row 선택"
      ],
      "metadata": {
        "colab": {
          "base_uri": "https://localhost:8080/",
          "height": 54
        },
        "id": "EEAE2k8MM4i5",
        "outputId": "f574dda4-a973-456d-ed1c-eaa002e2a35c"
      },
      "execution_count": null,
      "outputs": [
        {
          "output_type": "execute_result",
          "data": {
            "text/plain": [
              "'정부가 맞춤형 광고에 사용되는 개인정보 처리 투명성을 높인다. 앞으로 광고 사업자와 광고 매체 사업자는 종전보다 명확한 개인정보 처리 규정을 지켜야 한다. 이용자는 자신의 정보가 어떻게 이용됐는지 구체적으로 확인할 수 있다. 정부는 민·관 협의체를 구성해 정보 처리 투명성을 더 높일 계획이다.'"
            ],
            "application/vnd.google.colaboratory.intrinsic+json": {
              "type": "string"
            }
          },
          "metadata": {},
          "execution_count": 9
        }
      ]
    },
    {
      "cell_type": "code",
      "source": [
        "range(len(df_sheets))"
      ],
      "metadata": {
        "colab": {
          "base_uri": "https://localhost:8080/"
        },
        "id": "MLHyeLgQOpTh",
        "outputId": "aa604d83-a265-4c89-be5f-4010d1746d7c"
      },
      "execution_count": null,
      "outputs": [
        {
          "output_type": "execute_result",
          "data": {
            "text/plain": [
              "range(0, 45)"
            ]
          },
          "metadata": {},
          "execution_count": 10
        }
      ]
    },
    {
      "cell_type": "code",
      "source": [
        "list_sentence = []\n",
        "for x in range(len(df_sheets)):\n",
        "  list_sentence.append(df_sheets[x].iloc[0][3])\n",
        "list_sentence"
      ],
      "metadata": {
        "colab": {
          "base_uri": "https://localhost:8080/"
        },
        "id": "MrMokSifMjVY",
        "outputId": "79e0a70a-6782-4618-ba8e-427a1a611f0d"
      },
      "execution_count": null,
      "outputs": [
        {
          "output_type": "execute_result",
          "data": {
            "text/plain": [
              "['정부가 맞춤형 광고에 사용되는 개인정보 처리 투명성을 높인다. 앞으로 광고 사업자와 광고 매체 사업자는 종전보다 명확한 개인정보 처리 규정을 지켜야 한다. 이용자는 자신의 정보가 어떻게 이용됐는지 구체적으로 확인할 수 있다. 정부는 민·관 협의체를 구성해 정보 처리 투명성을 더 높일 계획이다.',\n",
              " '인공지능(AI)이 장문의 정보공개 청구 내용을 짧게 요약하고, 과거 유사 처리 내역도 자동으로 찾아 처리방향을 제시하는 업무지원 모델이 개발돼 행정 현장에 활용된다.',\n",
              " '테슬라가 해킹대회를 개최하였는데 한 보안업체 팀이 테슬라의 보안을 해킹하는데 성공했다.',\n",
              " nan,\n",
              " nan,\n",
              " '애플의 AI 기기가 출시되면 시장 주도권을 쥐기 위한 경쟁이 본격화 될 것이다.',\n",
              " nan,\n",
              " 'KOSA는 올해부터 SW인력양성체계를 프로그램에 초거대 인공지능(AI)과 생성형 AI 훈련과정을 신규 편성했다',\n",
              " nan,\n",
              " nan,\n",
              " nan,\n",
              " nan,\n",
              " nan,\n",
              " nan,\n",
              " nan,\n",
              " nan,\n",
              " nan,\n",
              " nan,\n",
              " '기업마다 각각 AI기술 인력을 확충하여 여러 AI 기술 팀을 조직하는 등 투자를 하고 있다.',\n",
              " nan,\n",
              " 'SK 하이닉스가 고성능 컴퓨팅 시스템을 효율적으로 구축하기 위한 PCle기반의 차세대 인터커넥트 프로토콜인 CXL의 메모리나 연산 기능 등을 통합한 CMS 시제품 등을 전시할 예정이다.',\n",
              " '올해 보안업계에서 AI, 얼굴인식, 클라우드 등 신기술을 적용할 예정으로 모니터링이 가능한 지능형 CCTV 등 발전시킬 예정이다.',\n",
              " '바이오경제 시대에 발맞춰 생명연이 나아갈 방향은 첨단바이오 국가전략기술 확보와 해외 선진기관과의 네트워크라고 언급했다.',\n",
              " '제약바이오·AI 기업들이 인공지능 도입에서 숙련된 인력을 고용하는 문제를 가장 큰 어려워하고 있다.',\n",
              " '정부가 4월 국가 통합 바이오 빅데이터 구축 사업을 본격화하고 감염병·재생의료 연구개발(R&D) 지원을 지속 확대한다. ',\n",
              " \"국내 기업들이 고립됐던 데이터 빗장을 풀고 'AI(인공지능) 신약' 개발에 협력하고 있다. \",\n",
              " '생명공학 분야에서 바이오 마커 발굴, 유전자 진단, 건강보조식품 개발 등 다양한 범위에서 활용되고 있는 바이오 빅데이터의 활용 접근성도 극대화했다.',\n",
              " '다량의 동영상 컨텐츠를 보유하고 있는 유튜브가 카카오톡을 압도했다.',\n",
              " '정부가 비정형 데이터에 대한 노출 위험도를 줄이고자 하려고 한다.',\n",
              " '현 정부에서 비대면 진료 등 의료 서비스의 디지털화를 추진을 시도하려고 한다.',\n",
              " '토마토 내의 영양소 중 하나인 라이코펜은 심혈관 질환을 예방하고 혈압을 낮춰주는 효과를 가지고 있으며 장내 유해균을 퇴치해준다는 효과가 발견되었다.',\n",
              " nan,\n",
              " nan,\n",
              " nan,\n",
              " '인공지능 기술이 다방면으로 사용되고 있으며 생성형 AI 기술을 기반으로한 시장에서 주도권을 갖기 위해 다양한 기업들의 경쟁이 지속될 것이다.',\n",
              " 'AI 알고리즘을 이용하여 사진을 바탕으로하는 데이터를 기반으로 안구질환 진단  기능을 도입하였다.',\n",
              " nan,\n",
              " nan,\n",
              " 'SK 브로드밴드가 자동개인식별 기능 구현을 통한 초개인화 기술을 통하여 개인의 라이프스타일 등 구체적인 행동 패턴으로부터 수집한 데이터를 AI로 분석하고 예측해 개인에게 최적화된 서비스를 제공함',\n",
              " nan,\n",
              " '카카오톡 내 안읽은 내용 요약 기능 개발',\n",
              " nan,\n",
              " nan,\n",
              " nan,\n",
              " 'AI 문서작성 및 문서 처리 시스템을 행정시스템에 도입하였다.']"
            ]
          },
          "metadata": {},
          "execution_count": 11
        }
      ]
    },
    {
      "cell_type": "code",
      "source": [
        "df_sentence = pd.DataFrame(list_sentence).dropna()          # list_sentence의 결측치를 제거하기 위해 데이터프레임화 시킨후 dropna()\n",
        "df_sentence"
      ],
      "metadata": {
        "colab": {
          "base_uri": "https://localhost:8080/",
          "height": 739
        },
        "id": "S5fhswPyPMto",
        "outputId": "b1d326d3-a3c2-45db-ff70-3e76f368e8d4"
      },
      "execution_count": null,
      "outputs": [
        {
          "output_type": "execute_result",
          "data": {
            "text/plain": [
              "                                                    0\n",
              "0   정부가 맞춤형 광고에 사용되는 개인정보 처리 투명성을 높인다. 앞으로 광고 사업자와...\n",
              "1   인공지능(AI)이 장문의 정보공개 청구 내용을 짧게 요약하고, 과거 유사 처리 내역...\n",
              "2    테슬라가 해킹대회를 개최하였는데 한 보안업체 팀이 테슬라의 보안을 해킹하는데 성공했다.\n",
              "5        애플의 AI 기기가 출시되면 시장 주도권을 쥐기 위한 경쟁이 본격화 될 것이다.\n",
              "7   KOSA는 올해부터 SW인력양성체계를 프로그램에 초거대 인공지능(AI)과 생성형 A...\n",
              "18  기업마다 각각 AI기술 인력을 확충하여 여러 AI 기술 팀을 조직하는 등 투자를 하...\n",
              "20  SK 하이닉스가 고성능 컴퓨팅 시스템을 효율적으로 구축하기 위한 PCle기반의 차세...\n",
              "21  올해 보안업계에서 AI, 얼굴인식, 클라우드 등 신기술을 적용할 예정으로 모니터링이...\n",
              "22  바이오경제 시대에 발맞춰 생명연이 나아갈 방향은 첨단바이오 국가전략기술 확보와 해외...\n",
              "23  제약바이오·AI 기업들이 인공지능 도입에서 숙련된 인력을 고용하는 문제를 가장 큰 ...\n",
              "24  정부가 4월 국가 통합 바이오 빅데이터 구축 사업을 본격화하고 감염병·재생의료 연구...\n",
              "25  국내 기업들이 고립됐던 데이터 빗장을 풀고 'AI(인공지능) 신약' 개발에 협력하고...\n",
              "26  생명공학 분야에서 바이오 마커 발굴, 유전자 진단, 건강보조식품 개발 등 다양한 범...\n",
              "27              다량의 동영상 컨텐츠를 보유하고 있는 유튜브가 카카오톡을 압도했다.\n",
              "28               정부가 비정형 데이터에 대한 노출 위험도를 줄이고자 하려고 한다.\n",
              "29        현 정부에서 비대면 진료 등 의료 서비스의 디지털화를 추진을 시도하려고 한다.\n",
              "30  토마토 내의 영양소 중 하나인 라이코펜은 심혈관 질환을 예방하고 혈압을 낮춰주는 효...\n",
              "34  인공지능 기술이 다방면으로 사용되고 있으며 생성형 AI 기술을 기반으로한 시장에서 ...\n",
              "35  AI 알고리즘을 이용하여 사진을 바탕으로하는 데이터를 기반으로 안구질환 진단  기능...\n",
              "38  SK 브로드밴드가 자동개인식별 기능 구현을 통한 초개인화 기술을 통하여 개인의 라이...\n",
              "40                             카카오톡 내 안읽은 내용 요약 기능 개발\n",
              "44                 AI 문서작성 및 문서 처리 시스템을 행정시스템에 도입하였다."
            ],
            "text/html": [
              "\n",
              "  <div id=\"df-faca3067-4419-4959-bdc2-f049058e6baa\" class=\"colab-df-container\">\n",
              "    <div>\n",
              "<style scoped>\n",
              "    .dataframe tbody tr th:only-of-type {\n",
              "        vertical-align: middle;\n",
              "    }\n",
              "\n",
              "    .dataframe tbody tr th {\n",
              "        vertical-align: top;\n",
              "    }\n",
              "\n",
              "    .dataframe thead th {\n",
              "        text-align: right;\n",
              "    }\n",
              "</style>\n",
              "<table border=\"1\" class=\"dataframe\">\n",
              "  <thead>\n",
              "    <tr style=\"text-align: right;\">\n",
              "      <th></th>\n",
              "      <th>0</th>\n",
              "    </tr>\n",
              "  </thead>\n",
              "  <tbody>\n",
              "    <tr>\n",
              "      <th>0</th>\n",
              "      <td>정부가 맞춤형 광고에 사용되는 개인정보 처리 투명성을 높인다. 앞으로 광고 사업자와...</td>\n",
              "    </tr>\n",
              "    <tr>\n",
              "      <th>1</th>\n",
              "      <td>인공지능(AI)이 장문의 정보공개 청구 내용을 짧게 요약하고, 과거 유사 처리 내역...</td>\n",
              "    </tr>\n",
              "    <tr>\n",
              "      <th>2</th>\n",
              "      <td>테슬라가 해킹대회를 개최하였는데 한 보안업체 팀이 테슬라의 보안을 해킹하는데 성공했다.</td>\n",
              "    </tr>\n",
              "    <tr>\n",
              "      <th>5</th>\n",
              "      <td>애플의 AI 기기가 출시되면 시장 주도권을 쥐기 위한 경쟁이 본격화 될 것이다.</td>\n",
              "    </tr>\n",
              "    <tr>\n",
              "      <th>7</th>\n",
              "      <td>KOSA는 올해부터 SW인력양성체계를 프로그램에 초거대 인공지능(AI)과 생성형 A...</td>\n",
              "    </tr>\n",
              "    <tr>\n",
              "      <th>18</th>\n",
              "      <td>기업마다 각각 AI기술 인력을 확충하여 여러 AI 기술 팀을 조직하는 등 투자를 하...</td>\n",
              "    </tr>\n",
              "    <tr>\n",
              "      <th>20</th>\n",
              "      <td>SK 하이닉스가 고성능 컴퓨팅 시스템을 효율적으로 구축하기 위한 PCle기반의 차세...</td>\n",
              "    </tr>\n",
              "    <tr>\n",
              "      <th>21</th>\n",
              "      <td>올해 보안업계에서 AI, 얼굴인식, 클라우드 등 신기술을 적용할 예정으로 모니터링이...</td>\n",
              "    </tr>\n",
              "    <tr>\n",
              "      <th>22</th>\n",
              "      <td>바이오경제 시대에 발맞춰 생명연이 나아갈 방향은 첨단바이오 국가전략기술 확보와 해외...</td>\n",
              "    </tr>\n",
              "    <tr>\n",
              "      <th>23</th>\n",
              "      <td>제약바이오·AI 기업들이 인공지능 도입에서 숙련된 인력을 고용하는 문제를 가장 큰 ...</td>\n",
              "    </tr>\n",
              "    <tr>\n",
              "      <th>24</th>\n",
              "      <td>정부가 4월 국가 통합 바이오 빅데이터 구축 사업을 본격화하고 감염병·재생의료 연구...</td>\n",
              "    </tr>\n",
              "    <tr>\n",
              "      <th>25</th>\n",
              "      <td>국내 기업들이 고립됐던 데이터 빗장을 풀고 'AI(인공지능) 신약' 개발에 협력하고...</td>\n",
              "    </tr>\n",
              "    <tr>\n",
              "      <th>26</th>\n",
              "      <td>생명공학 분야에서 바이오 마커 발굴, 유전자 진단, 건강보조식품 개발 등 다양한 범...</td>\n",
              "    </tr>\n",
              "    <tr>\n",
              "      <th>27</th>\n",
              "      <td>다량의 동영상 컨텐츠를 보유하고 있는 유튜브가 카카오톡을 압도했다.</td>\n",
              "    </tr>\n",
              "    <tr>\n",
              "      <th>28</th>\n",
              "      <td>정부가 비정형 데이터에 대한 노출 위험도를 줄이고자 하려고 한다.</td>\n",
              "    </tr>\n",
              "    <tr>\n",
              "      <th>29</th>\n",
              "      <td>현 정부에서 비대면 진료 등 의료 서비스의 디지털화를 추진을 시도하려고 한다.</td>\n",
              "    </tr>\n",
              "    <tr>\n",
              "      <th>30</th>\n",
              "      <td>토마토 내의 영양소 중 하나인 라이코펜은 심혈관 질환을 예방하고 혈압을 낮춰주는 효...</td>\n",
              "    </tr>\n",
              "    <tr>\n",
              "      <th>34</th>\n",
              "      <td>인공지능 기술이 다방면으로 사용되고 있으며 생성형 AI 기술을 기반으로한 시장에서 ...</td>\n",
              "    </tr>\n",
              "    <tr>\n",
              "      <th>35</th>\n",
              "      <td>AI 알고리즘을 이용하여 사진을 바탕으로하는 데이터를 기반으로 안구질환 진단  기능...</td>\n",
              "    </tr>\n",
              "    <tr>\n",
              "      <th>38</th>\n",
              "      <td>SK 브로드밴드가 자동개인식별 기능 구현을 통한 초개인화 기술을 통하여 개인의 라이...</td>\n",
              "    </tr>\n",
              "    <tr>\n",
              "      <th>40</th>\n",
              "      <td>카카오톡 내 안읽은 내용 요약 기능 개발</td>\n",
              "    </tr>\n",
              "    <tr>\n",
              "      <th>44</th>\n",
              "      <td>AI 문서작성 및 문서 처리 시스템을 행정시스템에 도입하였다.</td>\n",
              "    </tr>\n",
              "  </tbody>\n",
              "</table>\n",
              "</div>\n",
              "    <div class=\"colab-df-buttons\">\n",
              "\n",
              "  <div class=\"colab-df-container\">\n",
              "    <button class=\"colab-df-convert\" onclick=\"convertToInteractive('df-faca3067-4419-4959-bdc2-f049058e6baa')\"\n",
              "            title=\"Convert this dataframe to an interactive table.\"\n",
              "            style=\"display:none;\">\n",
              "\n",
              "  <svg xmlns=\"http://www.w3.org/2000/svg\" height=\"24px\" viewBox=\"0 -960 960 960\">\n",
              "    <path d=\"M120-120v-720h720v720H120Zm60-500h600v-160H180v160Zm220 220h160v-160H400v160Zm0 220h160v-160H400v160ZM180-400h160v-160H180v160Zm440 0h160v-160H620v160ZM180-180h160v-160H180v160Zm440 0h160v-160H620v160Z\"/>\n",
              "  </svg>\n",
              "    </button>\n",
              "\n",
              "  <style>\n",
              "    .colab-df-container {\n",
              "      display:flex;\n",
              "      gap: 12px;\n",
              "    }\n",
              "\n",
              "    .colab-df-convert {\n",
              "      background-color: #E8F0FE;\n",
              "      border: none;\n",
              "      border-radius: 50%;\n",
              "      cursor: pointer;\n",
              "      display: none;\n",
              "      fill: #1967D2;\n",
              "      height: 32px;\n",
              "      padding: 0 0 0 0;\n",
              "      width: 32px;\n",
              "    }\n",
              "\n",
              "    .colab-df-convert:hover {\n",
              "      background-color: #E2EBFA;\n",
              "      box-shadow: 0px 1px 2px rgba(60, 64, 67, 0.3), 0px 1px 3px 1px rgba(60, 64, 67, 0.15);\n",
              "      fill: #174EA6;\n",
              "    }\n",
              "\n",
              "    .colab-df-buttons div {\n",
              "      margin-bottom: 4px;\n",
              "    }\n",
              "\n",
              "    [theme=dark] .colab-df-convert {\n",
              "      background-color: #3B4455;\n",
              "      fill: #D2E3FC;\n",
              "    }\n",
              "\n",
              "    [theme=dark] .colab-df-convert:hover {\n",
              "      background-color: #434B5C;\n",
              "      box-shadow: 0px 1px 3px 1px rgba(0, 0, 0, 0.15);\n",
              "      filter: drop-shadow(0px 1px 2px rgba(0, 0, 0, 0.3));\n",
              "      fill: #FFFFFF;\n",
              "    }\n",
              "  </style>\n",
              "\n",
              "    <script>\n",
              "      const buttonEl =\n",
              "        document.querySelector('#df-faca3067-4419-4959-bdc2-f049058e6baa button.colab-df-convert');\n",
              "      buttonEl.style.display =\n",
              "        google.colab.kernel.accessAllowed ? 'block' : 'none';\n",
              "\n",
              "      async function convertToInteractive(key) {\n",
              "        const element = document.querySelector('#df-faca3067-4419-4959-bdc2-f049058e6baa');\n",
              "        const dataTable =\n",
              "          await google.colab.kernel.invokeFunction('convertToInteractive',\n",
              "                                                    [key], {});\n",
              "        if (!dataTable) return;\n",
              "\n",
              "        const docLinkHtml = 'Like what you see? Visit the ' +\n",
              "          '<a target=\"_blank\" href=https://colab.research.google.com/notebooks/data_table.ipynb>data table notebook</a>'\n",
              "          + ' to learn more about interactive tables.';\n",
              "        element.innerHTML = '';\n",
              "        dataTable['output_type'] = 'display_data';\n",
              "        await google.colab.output.renderOutput(dataTable, element);\n",
              "        const docLink = document.createElement('div');\n",
              "        docLink.innerHTML = docLinkHtml;\n",
              "        element.appendChild(docLink);\n",
              "      }\n",
              "    </script>\n",
              "  </div>\n",
              "\n",
              "\n",
              "<div id=\"df-a869704b-7fe7-45e5-b912-8466bd20a470\">\n",
              "  <button class=\"colab-df-quickchart\" onclick=\"quickchart('df-a869704b-7fe7-45e5-b912-8466bd20a470')\"\n",
              "            title=\"Suggest charts\"\n",
              "            style=\"display:none;\">\n",
              "\n",
              "<svg xmlns=\"http://www.w3.org/2000/svg\" height=\"24px\"viewBox=\"0 0 24 24\"\n",
              "     width=\"24px\">\n",
              "    <g>\n",
              "        <path d=\"M19 3H5c-1.1 0-2 .9-2 2v14c0 1.1.9 2 2 2h14c1.1 0 2-.9 2-2V5c0-1.1-.9-2-2-2zM9 17H7v-7h2v7zm4 0h-2V7h2v10zm4 0h-2v-4h2v4z\"/>\n",
              "    </g>\n",
              "</svg>\n",
              "  </button>\n",
              "\n",
              "<style>\n",
              "  .colab-df-quickchart {\n",
              "      --bg-color: #E8F0FE;\n",
              "      --fill-color: #1967D2;\n",
              "      --hover-bg-color: #E2EBFA;\n",
              "      --hover-fill-color: #174EA6;\n",
              "      --disabled-fill-color: #AAA;\n",
              "      --disabled-bg-color: #DDD;\n",
              "  }\n",
              "\n",
              "  [theme=dark] .colab-df-quickchart {\n",
              "      --bg-color: #3B4455;\n",
              "      --fill-color: #D2E3FC;\n",
              "      --hover-bg-color: #434B5C;\n",
              "      --hover-fill-color: #FFFFFF;\n",
              "      --disabled-bg-color: #3B4455;\n",
              "      --disabled-fill-color: #666;\n",
              "  }\n",
              "\n",
              "  .colab-df-quickchart {\n",
              "    background-color: var(--bg-color);\n",
              "    border: none;\n",
              "    border-radius: 50%;\n",
              "    cursor: pointer;\n",
              "    display: none;\n",
              "    fill: var(--fill-color);\n",
              "    height: 32px;\n",
              "    padding: 0;\n",
              "    width: 32px;\n",
              "  }\n",
              "\n",
              "  .colab-df-quickchart:hover {\n",
              "    background-color: var(--hover-bg-color);\n",
              "    box-shadow: 0 1px 2px rgba(60, 64, 67, 0.3), 0 1px 3px 1px rgba(60, 64, 67, 0.15);\n",
              "    fill: var(--button-hover-fill-color);\n",
              "  }\n",
              "\n",
              "  .colab-df-quickchart-complete:disabled,\n",
              "  .colab-df-quickchart-complete:disabled:hover {\n",
              "    background-color: var(--disabled-bg-color);\n",
              "    fill: var(--disabled-fill-color);\n",
              "    box-shadow: none;\n",
              "  }\n",
              "\n",
              "  .colab-df-spinner {\n",
              "    border: 2px solid var(--fill-color);\n",
              "    border-color: transparent;\n",
              "    border-bottom-color: var(--fill-color);\n",
              "    animation:\n",
              "      spin 1s steps(1) infinite;\n",
              "  }\n",
              "\n",
              "  @keyframes spin {\n",
              "    0% {\n",
              "      border-color: transparent;\n",
              "      border-bottom-color: var(--fill-color);\n",
              "      border-left-color: var(--fill-color);\n",
              "    }\n",
              "    20% {\n",
              "      border-color: transparent;\n",
              "      border-left-color: var(--fill-color);\n",
              "      border-top-color: var(--fill-color);\n",
              "    }\n",
              "    30% {\n",
              "      border-color: transparent;\n",
              "      border-left-color: var(--fill-color);\n",
              "      border-top-color: var(--fill-color);\n",
              "      border-right-color: var(--fill-color);\n",
              "    }\n",
              "    40% {\n",
              "      border-color: transparent;\n",
              "      border-right-color: var(--fill-color);\n",
              "      border-top-color: var(--fill-color);\n",
              "    }\n",
              "    60% {\n",
              "      border-color: transparent;\n",
              "      border-right-color: var(--fill-color);\n",
              "    }\n",
              "    80% {\n",
              "      border-color: transparent;\n",
              "      border-right-color: var(--fill-color);\n",
              "      border-bottom-color: var(--fill-color);\n",
              "    }\n",
              "    90% {\n",
              "      border-color: transparent;\n",
              "      border-bottom-color: var(--fill-color);\n",
              "    }\n",
              "  }\n",
              "</style>\n",
              "\n",
              "  <script>\n",
              "    async function quickchart(key) {\n",
              "      const quickchartButtonEl =\n",
              "        document.querySelector('#' + key + ' button');\n",
              "      quickchartButtonEl.disabled = true;  // To prevent multiple clicks.\n",
              "      quickchartButtonEl.classList.add('colab-df-spinner');\n",
              "      try {\n",
              "        const charts = await google.colab.kernel.invokeFunction(\n",
              "            'suggestCharts', [key], {});\n",
              "      } catch (error) {\n",
              "        console.error('Error during call to suggestCharts:', error);\n",
              "      }\n",
              "      quickchartButtonEl.classList.remove('colab-df-spinner');\n",
              "      quickchartButtonEl.classList.add('colab-df-quickchart-complete');\n",
              "    }\n",
              "    (() => {\n",
              "      let quickchartButtonEl =\n",
              "        document.querySelector('#df-a869704b-7fe7-45e5-b912-8466bd20a470 button');\n",
              "      quickchartButtonEl.style.display =\n",
              "        google.colab.kernel.accessAllowed ? 'block' : 'none';\n",
              "    })();\n",
              "  </script>\n",
              "</div>\n",
              "\n",
              "  <div id=\"id_064981b7-6919-42ae-b5ba-6830f6373b7f\">\n",
              "    <style>\n",
              "      .colab-df-generate {\n",
              "        background-color: #E8F0FE;\n",
              "        border: none;\n",
              "        border-radius: 50%;\n",
              "        cursor: pointer;\n",
              "        display: none;\n",
              "        fill: #1967D2;\n",
              "        height: 32px;\n",
              "        padding: 0 0 0 0;\n",
              "        width: 32px;\n",
              "      }\n",
              "\n",
              "      .colab-df-generate:hover {\n",
              "        background-color: #E2EBFA;\n",
              "        box-shadow: 0px 1px 2px rgba(60, 64, 67, 0.3), 0px 1px 3px 1px rgba(60, 64, 67, 0.15);\n",
              "        fill: #174EA6;\n",
              "      }\n",
              "\n",
              "      [theme=dark] .colab-df-generate {\n",
              "        background-color: #3B4455;\n",
              "        fill: #D2E3FC;\n",
              "      }\n",
              "\n",
              "      [theme=dark] .colab-df-generate:hover {\n",
              "        background-color: #434B5C;\n",
              "        box-shadow: 0px 1px 3px 1px rgba(0, 0, 0, 0.15);\n",
              "        filter: drop-shadow(0px 1px 2px rgba(0, 0, 0, 0.3));\n",
              "        fill: #FFFFFF;\n",
              "      }\n",
              "    </style>\n",
              "    <button class=\"colab-df-generate\" onclick=\"generateWithVariable('df_sentence')\"\n",
              "            title=\"Generate code using this dataframe.\"\n",
              "            style=\"display:none;\">\n",
              "\n",
              "  <svg xmlns=\"http://www.w3.org/2000/svg\" height=\"24px\"viewBox=\"0 0 24 24\"\n",
              "       width=\"24px\">\n",
              "    <path d=\"M7,19H8.4L18.45,9,17,7.55,7,17.6ZM5,21V16.75L18.45,3.32a2,2,0,0,1,2.83,0l1.4,1.43a1.91,1.91,0,0,1,.58,1.4,1.91,1.91,0,0,1-.58,1.4L9.25,21ZM18.45,9,17,7.55Zm-12,3A5.31,5.31,0,0,0,4.9,8.1,5.31,5.31,0,0,0,1,6.5,5.31,5.31,0,0,0,4.9,4.9,5.31,5.31,0,0,0,6.5,1,5.31,5.31,0,0,0,8.1,4.9,5.31,5.31,0,0,0,12,6.5,5.46,5.46,0,0,0,6.5,12Z\"/>\n",
              "  </svg>\n",
              "    </button>\n",
              "    <script>\n",
              "      (() => {\n",
              "      const buttonEl =\n",
              "        document.querySelector('#id_064981b7-6919-42ae-b5ba-6830f6373b7f button.colab-df-generate');\n",
              "      buttonEl.style.display =\n",
              "        google.colab.kernel.accessAllowed ? 'block' : 'none';\n",
              "\n",
              "      buttonEl.onclick = () => {\n",
              "        google.colab.notebook.generateWithVariable('df_sentence');\n",
              "      }\n",
              "      })();\n",
              "    </script>\n",
              "  </div>\n",
              "\n",
              "    </div>\n",
              "  </div>\n"
            ],
            "application/vnd.google.colaboratory.intrinsic+json": {
              "type": "dataframe",
              "variable_name": "df_sentence",
              "summary": "{\n  \"name\": \"df_sentence\",\n  \"rows\": 22,\n  \"fields\": [\n    {\n      \"column\": 0,\n      \"properties\": {\n        \"dtype\": \"string\",\n        \"samples\": [\n          \"\\uc815\\ubd80\\uac00 \\ub9de\\ucda4\\ud615 \\uad11\\uace0\\uc5d0 \\uc0ac\\uc6a9\\ub418\\ub294 \\uac1c\\uc778\\uc815\\ubcf4 \\ucc98\\ub9ac \\ud22c\\uba85\\uc131\\uc744 \\ub192\\uc778\\ub2e4. \\uc55e\\uc73c\\ub85c \\uad11\\uace0 \\uc0ac\\uc5c5\\uc790\\uc640 \\uad11\\uace0 \\ub9e4\\uccb4 \\uc0ac\\uc5c5\\uc790\\ub294 \\uc885\\uc804\\ubcf4\\ub2e4 \\uba85\\ud655\\ud55c \\uac1c\\uc778\\uc815\\ubcf4 \\ucc98\\ub9ac \\uaddc\\uc815\\uc744 \\uc9c0\\ucf1c\\uc57c \\ud55c\\ub2e4. \\uc774\\uc6a9\\uc790\\ub294 \\uc790\\uc2e0\\uc758 \\uc815\\ubcf4\\uac00 \\uc5b4\\ub5bb\\uac8c \\uc774\\uc6a9\\ub410\\ub294\\uc9c0 \\uad6c\\uccb4\\uc801\\uc73c\\ub85c \\ud655\\uc778\\ud560 \\uc218 \\uc788\\ub2e4. \\uc815\\ubd80\\ub294 \\ubbfc\\u00b7\\uad00 \\ud611\\uc758\\uccb4\\ub97c \\uad6c\\uc131\\ud574 \\uc815\\ubcf4 \\ucc98\\ub9ac \\ud22c\\uba85\\uc131\\uc744 \\ub354 \\ub192\\uc77c \\uacc4\\ud68d\\uc774\\ub2e4.\",\n          \"\\ub2e4\\ub7c9\\uc758 \\ub3d9\\uc601\\uc0c1 \\ucee8\\ud150\\uce20\\ub97c \\ubcf4\\uc720\\ud558\\uace0 \\uc788\\ub294 \\uc720\\ud29c\\ube0c\\uac00 \\uce74\\uce74\\uc624\\ud1a1\\uc744 \\uc555\\ub3c4\\ud588\\ub2e4.\",\n          \"\\ubc14\\uc774\\uc624\\uacbd\\uc81c \\uc2dc\\ub300\\uc5d0 \\ubc1c\\ub9de\\ucdb0 \\uc0dd\\uba85\\uc5f0\\uc774 \\ub098\\uc544\\uac08 \\ubc29\\ud5a5\\uc740 \\ucca8\\ub2e8\\ubc14\\uc774\\uc624 \\uad6d\\uac00\\uc804\\ub7b5\\uae30\\uc220 \\ud655\\ubcf4\\uc640 \\ud574\\uc678 \\uc120\\uc9c4\\uae30\\uad00\\uacfc\\uc758 \\ub124\\ud2b8\\uc6cc\\ud06c\\ub77c\\uace0 \\uc5b8\\uae09\\ud588\\ub2e4.\"\n        ],\n        \"num_unique_values\": 22,\n        \"semantic_type\": \"\",\n        \"description\": \"\"\n      }\n    }\n  ]\n}"
            }
          },
          "metadata": {},
          "execution_count": 12
        }
      ]
    },
    {
      "cell_type": "code",
      "source": [
        "series_sentence = df_sentence[0]          # dropna 시킨 데이터 프레임을 다시 시리즈화\n",
        "series_sentence"
      ],
      "metadata": {
        "colab": {
          "base_uri": "https://localhost:8080/"
        },
        "id": "4C6ZqbhRb97T",
        "outputId": "df42a15d-3a1b-4d3b-f368-fc097d6b4f55"
      },
      "execution_count": null,
      "outputs": [
        {
          "output_type": "execute_result",
          "data": {
            "text/plain": [
              "0     정부가 맞춤형 광고에 사용되는 개인정보 처리 투명성을 높인다. 앞으로 광고 사업자와...\n",
              "1     인공지능(AI)이 장문의 정보공개 청구 내용을 짧게 요약하고, 과거 유사 처리 내역...\n",
              "2      테슬라가 해킹대회를 개최하였는데 한 보안업체 팀이 테슬라의 보안을 해킹하는데 성공했다.\n",
              "5          애플의 AI 기기가 출시되면 시장 주도권을 쥐기 위한 경쟁이 본격화 될 것이다.\n",
              "7     KOSA는 올해부터 SW인력양성체계를 프로그램에 초거대 인공지능(AI)과 생성형 A...\n",
              "18    기업마다 각각 AI기술 인력을 확충하여 여러 AI 기술 팀을 조직하는 등 투자를 하...\n",
              "20    SK 하이닉스가 고성능 컴퓨팅 시스템을 효율적으로 구축하기 위한 PCle기반의 차세...\n",
              "21    올해 보안업계에서 AI, 얼굴인식, 클라우드 등 신기술을 적용할 예정으로 모니터링이...\n",
              "22    바이오경제 시대에 발맞춰 생명연이 나아갈 방향은 첨단바이오 국가전략기술 확보와 해외...\n",
              "23    제약바이오·AI 기업들이 인공지능 도입에서 숙련된 인력을 고용하는 문제를 가장 큰 ...\n",
              "24    정부가 4월 국가 통합 바이오 빅데이터 구축 사업을 본격화하고 감염병·재생의료 연구...\n",
              "25    국내 기업들이 고립됐던 데이터 빗장을 풀고 'AI(인공지능) 신약' 개발에 협력하고...\n",
              "26    생명공학 분야에서 바이오 마커 발굴, 유전자 진단, 건강보조식품 개발 등 다양한 범...\n",
              "27                다량의 동영상 컨텐츠를 보유하고 있는 유튜브가 카카오톡을 압도했다.\n",
              "28                 정부가 비정형 데이터에 대한 노출 위험도를 줄이고자 하려고 한다.\n",
              "29          현 정부에서 비대면 진료 등 의료 서비스의 디지털화를 추진을 시도하려고 한다.\n",
              "30    토마토 내의 영양소 중 하나인 라이코펜은 심혈관 질환을 예방하고 혈압을 낮춰주는 효...\n",
              "34    인공지능 기술이 다방면으로 사용되고 있으며 생성형 AI 기술을 기반으로한 시장에서 ...\n",
              "35    AI 알고리즘을 이용하여 사진을 바탕으로하는 데이터를 기반으로 안구질환 진단  기능...\n",
              "38    SK 브로드밴드가 자동개인식별 기능 구현을 통한 초개인화 기술을 통하여 개인의 라이...\n",
              "40                               카카오톡 내 안읽은 내용 요약 기능 개발\n",
              "44                   AI 문서작성 및 문서 처리 시스템을 행정시스템에 도입하였다.\n",
              "Name: 0, dtype: object"
            ]
          },
          "metadata": {},
          "execution_count": 13
        }
      ]
    },
    {
      "cell_type": "code",
      "source": [
        "# merge_text = ' '.join(series_sentence)\n",
        "# merge_text"
      ],
      "metadata": {
        "id": "XgVcgcqlakMa"
      },
      "execution_count": null,
      "outputs": []
    },
    {
      "cell_type": "code",
      "source": [
        "import re\n",
        "\n",
        "patterns = \"(은 |는 |이 |가 |을 |를 |들 |의 |으로 |있다. |했다|이다. |이다 |이다.|한다. |한다 |했다.|되었다.|하였다.|한다.|하기 |없다. |없다 |로 |에 |에서 |하고 |\\n |' )\"\n",
        "\n",
        "list_sentence_final=[]\n",
        "for sentence in series_sentence:\n",
        "  text_regex = re.sub(pattern = patterns, repl = \" \", string = sentence)\n",
        "  list_sentence_final.append(text_regex)\n",
        "list_sentence_final"
      ],
      "metadata": {
        "colab": {
          "base_uri": "https://localhost:8080/"
        },
        "id": "uCiK6KBwakJi",
        "outputId": "62cb194f-9a93-43f3-9229-bbc8fd65ec82"
      },
      "execution_count": null,
      "outputs": [
        {
          "output_type": "execute_result",
          "data": {
            "text/plain": [
              "['정부 맞춤형 광고 사용되 개인정보 처리 투명성 높인다. 앞 광고 사업자와 광고 매체 사업자 종전보다 명확한 개인정보 처리 규정 지켜야  이용자 자신 정보 어떻게 이용됐는지 구체적 확인할 수  정부 민·관 협의체 구성해 정보 처리 투명성 더 높일 계획 ',\n",
              " '인공지능(AI) 장문 정보공개 청구 내용 짧게 요약하고, 과거 유사 처리 내역도 자동 찾아 처리방향 제시하 업무지원 모델 개발돼 행정 현장 활용된다.',\n",
              " '테슬라 해킹대회 개최하였는데 한 보안업체 팀 테슬라 보안 해킹하는데 성공 .',\n",
              " '애플 AI 기기 출시되면 시장 주도권 쥐기 위한 경쟁 본격화 될 것 ',\n",
              " 'KOSA 올해부터 SW인력양성체계 프로그램 초거대 인공지능(AI)과 생성형 AI 훈련과정 신규 편성 ',\n",
              " '기업마다 각각 AI기술 인력 확충하여 여러 AI 기술 팀 조직하 등 투자  있다.',\n",
              " 'SK 하이닉스 고성능 컴퓨팅 시스템 효율적 구축 위한 PCle기반 차세대 인터커넥트 프로토콜인 CXL 메모리나 연산 기능 등 통합한 CMS 시제품 등 전시할 예정 ',\n",
              " '올해 보안업계 AI, 얼굴인식, 클라우드 등 신기술 적용할 예정 모니터링 가능한 지능형 CCTV 등 발전시킬 예정 ',\n",
              " '바이오경제 시대 발맞춰 생명연 나아갈 방향 첨단바이오 국가전략기술 확보와 해외 선진기관과 네트워크라고 언급 .',\n",
              " '제약바이오·AI 기업들 인공지능 도입 숙련된 인력 고용하 문제 가장 큰 어려워 있다.',\n",
              " '정부 4월 국 통합 바이오 빅데이터 구축 사업 본격화 감염병·재생의료 연구개발(R&D) 지원 지속 확대 ',\n",
              " \"국내 기업들 고립됐던 데이터 빗장 풀고 'AI(인공지능) 신약 개발 협력  \",\n",
              " '생명공학 분야 바이오 마커 발굴, 유전자 진단, 건강보조식품 개발 등 다양한 범위 활용되고 있 바이오 빅데이터 활용 접근성도 극대화 .',\n",
              " '다량 동영상 컨텐츠 보유 있 유튜브 카카오톡 압도 .',\n",
              " '정부 비정형 데이터 대한 노출 위험도 줄이고자 하려고  ',\n",
              " '현 정부 비대면 진료 등 의료 서비스 디지털화 추진 시도하려고  ',\n",
              " '토마토 내 영양소 중 하나인 라이코펜 심혈관 질환 예방 혈압 낮춰주 효과 가지고 있으며 장내 유해균 퇴치해준다 효과 발견 ',\n",
              " '인공지능 기술 다방면 사용되고 있으며 생성형 AI 기술 기반으로한 시장 주도권 갖기 위해 다양한 기업들 경쟁 지속될 것 ',\n",
              " 'AI 알고리즘 이용하여 사진 바탕으로하 데이터 기반 안구질환 진단  기능 도입 ',\n",
              " 'SK 브로드밴드 자동개인식별 기능 구현 통한 초개인화 기술 통하여 개인 라이프스타일 등 구체적인 행동 패턴으로부터 수집한 데이터 AI 분석 예측해 개인에게 최적화된 서비스 제공함',\n",
              " '카카오톡 내 안읽 내용 요약 기능 개발',\n",
              " 'AI 문서작성 및 문서 처리 시스템 행정시스템 도입 ']"
            ]
          },
          "metadata": {},
          "execution_count": 15
        }
      ]
    },
    {
      "cell_type": "code",
      "source": [],
      "metadata": {
        "id": "ktc4o_6dzGhz"
      },
      "execution_count": null,
      "outputs": []
    },
    {
      "cell_type": "code",
      "source": [
        "# pd.read_pickle(\"classification_news_machine.pkl\")"
      ],
      "metadata": {
        "id": "TO1bvji0ZoHy"
      },
      "execution_count": null,
      "outputs": []
    },
    {
      "cell_type": "code",
      "source": [],
      "metadata": {
        "id": "PD5pqjAe84IM"
      },
      "execution_count": null,
      "outputs": []
    }
  ]
}